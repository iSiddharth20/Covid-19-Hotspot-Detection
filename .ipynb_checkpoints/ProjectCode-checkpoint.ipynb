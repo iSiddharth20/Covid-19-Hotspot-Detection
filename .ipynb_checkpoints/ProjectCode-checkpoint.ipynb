{
 "cells": [
  {
   "cell_type": "markdown",
   "metadata": {},
   "source": [
    "# Data Sourcing and Division"
   ]
  },
  {
   "cell_type": "code",
   "execution_count": 1,
   "metadata": {},
   "outputs": [],
   "source": [
    "# Importing Libraries\n",
    "import io\n",
    "import requests\n",
    "import pandas as pd "
   ]
  },
  {
   "cell_type": "code",
   "execution_count": 2,
   "metadata": {},
   "outputs": [],
   "source": [
    "# Obtaining the Data\n",
    "url = 'https://docs.google.com/spreadsheets/d/e/2PACX-1vSc_2y5N0I67wDU38DjDh35IZSIS30rQf7_NYZhtYYGU1jJYT6_kDx4YpF-qw0LSlGsBYP8pqM_a1Pd/pub?output=csv'\n",
    "res = requests.get(url)\n",
    "raw_data = pd.read_csv(io.BytesIO(res.content), sep=',')\n",
    "data = raw_data[['Detected State','Detected City']]"
   ]
  },
  {
   "cell_type": "code",
   "execution_count": 3,
   "metadata": {},
   "outputs": [],
   "source": [
    "# Dividing the Data\n",
    "MH_Data = data[data['Detected State'] == 'Maharashtra']\n",
    "MH_Data = MH_Data.dropna()\n",
    "\n",
    "TN_Data = data[data['Detected State'] == 'Tamil Nadu']\n",
    "TN_Data = TN_Data.dropna()\n",
    "\n",
    "DL_Data = data[data['Detected State'] == 'Delhi']\n",
    "DL_Data = DL_Data.dropna()\n",
    "\n",
    "MP_Data = data[data['Detected State'] == 'Madhya Pradesh']\n",
    "MP_Data = MP_Data.dropna()"
   ]
  },
  {
   "cell_type": "markdown",
   "metadata": {},
   "source": [
    "# Creating Required Data Frames"
   ]
  },
  {
   "cell_type": "code",
   "execution_count": 4,
   "metadata": {},
   "outputs": [],
   "source": [
    "'''\n",
    "Creating Required Data Frame(s)\n",
    "'''\n",
    "\n",
    "def divide(DF):\n",
    "    LST = []\n",
    "    # 'x' will have all the names of Cities in the State\n",
    "    for x in DF['Detected City'].unique():\n",
    "        # 'temp' is a DataFrame that contains details of the Current City\n",
    "        temp = DF[DF['Detected City']==x]\n",
    "        # The List 'DF' contains sub-lists with 'Name of City' and 'Number of Registered Cases'\n",
    "        LST.append([x,temp['Detected City'].count()])\n",
    "    # Converting the Nested List into a DataFrame\n",
    "    DF_df = pd.DataFrame(LST)\n",
    "    # Defining the Column Names\n",
    "    DF_df.columns = ['City_Name','Number_Of_Patients']\n",
    "    # Arranging the DataFrame in Descending Order to Obtain Cities with Max Cases on Top\n",
    "    DF_df = DF_df.sort_values(by=['Number_Of_Patients'],ascending=False)\n",
    "    return DF_df\n",
    "\n",
    "# Maharashtra Data Frame\n",
    "MH_df = divide(MH_Data)\n",
    "\n",
    "# Tamil Nadu Data Frame\n",
    "TN_df = divide(TN_Data)\n",
    "\n",
    "# Delhi Data Frame\n",
    "DL_df = divide(DL_Data)\n",
    "\n",
    "# Madhya Pradesh Data Frame\n",
    "MP_df = divide(MP_Data)"
   ]
  },
  {
   "cell_type": "markdown",
   "metadata": {},
   "source": [
    "# Data Visualization"
   ]
  },
  {
   "cell_type": "code",
   "execution_count": 5,
   "metadata": {},
   "outputs": [],
   "source": [
    "# Importing Libraries\n",
    "import matplotlib.pyplot as plt\n",
    "import seaborn as sns\n",
    "import numpy as np"
   ]
  },
  {
   "cell_type": "code",
   "execution_count": 6,
   "metadata": {},
   "outputs": [
    {
     "data": {
      "image/png": "[encoded data removed]",
      "text/plain": [
       "<Figure size 432x288 with 1 Axes>"
      ]
     },
     "metadata": {
      "needs_background": "light"
     },
     "output_type": "display_data"
    }
   ],
   "source": [
    "'''\n",
    "Maharashtra\n",
    "'''\n",
    "# Defining a Bar Graph\n",
    "plt.bar(MH_df[:4]['City_Name'], MH_df[:4]['Number_Of_Patients'])\n",
    "\n",
    "# Print the Graph\n",
    "plt.show()"
   ]
  },
  {
   "cell_type": "code",
   "execution_count": 7,
   "metadata": {},
   "outputs": [
    {
     "data": {
      "text/plain": [
       "<matplotlib.axes._subplots.AxesSubplot at 0x1247cf810>"
      ]
     },
     "execution_count": 7,
     "metadata": {},
     "output_type": "execute_result"
    },
    {
     "data": {
      "image/png": "[encoded data removed]",
      "text/plain": [
       "<Figure size 432x288 with 1 Axes>"
      ]
     },
     "metadata": {
      "needs_background": "light"
     },
     "output_type": "display_data"
    }
   ],
   "source": [
    "sns.boxplot(MH_df[['Number_Of_Patients']])"
   ]
  },
  {
   "cell_type": "code",
   "execution_count": 8,
   "metadata": {},
   "outputs": [
    {
     "data": {
      "image/png": "[encoded data removed]",
      "text/plain": [
       "<Figure size 432x288 with 1 Axes>"
      ]
     },
     "metadata": {
      "needs_background": "light"
     },
     "output_type": "display_data"
    }
   ],
   "source": [
    "'''\n",
    "Tamil Nadu\n",
    "'''\n",
    "# Defining a Bar Graph\n",
    "plt.bar(TN_df[:4]['City_Name'], TN_df[:4]['Number_Of_Patients'])\n",
    "\n",
    "# Print the Graph\n",
    "plt.show()"
   ]
  },
  {
   "cell_type": "code",
   "execution_count": 9,
   "metadata": {},
   "outputs": [
    {
     "data": {
      "text/plain": [
       "<matplotlib.axes._subplots.AxesSubplot at 0x1249d15d0>"
      ]
     },
     "execution_count": 9,
     "metadata": {},
     "output_type": "execute_result"
    },
    {
     "data": {
      "image/png": "[encoded data removed]",
      "text/plain": [
       "<Figure size 432x288 with 1 Axes>"
      ]
     },
     "metadata": {
      "needs_background": "light"
     },
     "output_type": "display_data"
    }
   ],
   "source": [
    "sns.boxplot(TN_df[['Number_Of_Patients']])"
   ]
  },
  {
   "cell_type": "code",
   "execution_count": 10,
   "metadata": {},
   "outputs": [
    {
     "data": {
      "image/png": "[encoded data removed]",
      "text/plain": [
       "<Figure size 432x288 with 1 Axes>"
      ]
     },
     "metadata": {
      "needs_background": "light"
     },
     "output_type": "display_data"
    }
   ],
   "source": [
    "'''\n",
    "Delhi\n",
    "'''\n",
    "# Defining a Bar Graph\n",
    "plt.bar(DL_df[:4]['City_Name'], DL_df[:4]['Number_Of_Patients'])\n",
    "\n",
    "# Print the Graph\n",
    "plt.show()"
   ]
  },
  {
   "cell_type": "code",
   "execution_count": 11,
   "metadata": {},
   "outputs": [
    {
     "data": {
      "text/plain": [
       "<matplotlib.axes._subplots.AxesSubplot at 0x124d1a1d0>"
      ]
     },
     "execution_count": 11,
     "metadata": {},
     "output_type": "execute_result"
    },
    {
     "data": {
      "image/png": "[encoded data removed]",
      "text/plain": [
       "<Figure size 432x288 with 1 Axes>"
      ]
     },
     "metadata": {
      "needs_background": "light"
     },
     "output_type": "display_data"
    }
   ],
   "source": [
    "sns.boxplot(DL_df[['Number_Of_Patients']])"
   ]
  },
  {
   "cell_type": "code",
   "execution_count": 12,
   "metadata": {},
   "outputs": [
    {
     "data": {
      "image/png": "[encoded data removed]",
      "text/plain": [
       "<Figure size 432x288 with 1 Axes>"
      ]
     },
     "metadata": {
      "needs_background": "light"
     },
     "output_type": "display_data"
    }
   ],
   "source": [
    "'''\n",
    "Madhya Pradesh\n",
    "'''\n",
    "# Defining a Bar Graph\n",
    "plt.bar(MP_df[:4]['City_Name'], MP_df[:4]['Number_Of_Patients'])\n",
    "\n",
    "# Print the Graph\n",
    "plt.show()"
   ]
  },
  {
   "cell_type": "code",
   "execution_count": 13,
   "metadata": {},
   "outputs": [
    {
     "data": {
      "text/plain": [
       "<matplotlib.axes._subplots.AxesSubplot at 0x124e62f90>"
      ]
     },
     "execution_count": 13,
     "metadata": {},
     "output_type": "execute_result"
    },
    {
     "data": {
      "image/png": "[encoded data removed]",
      "text/plain": [
       "<Figure size 432x288 with 1 Axes>"
      ]
     },
     "metadata": {
      "needs_background": "light"
     },
     "output_type": "display_data"
    }
   ],
   "source": [
    "sns.boxplot(MP_df[['Number_Of_Patients']])"
   ]
  },
  {
   "cell_type": "code",
   "execution_count": null,
   "metadata": {},
   "outputs": [],
   "source": []
  }
 ],
 "metadata": {
  "kernelspec": {
   "display_name": "Python 3",
   "language": "python",
   "name": "python3"
  },
  "language_info": {
   "codemirror_mode": {
    "name": "ipython",
    "version": 3
   },
   "file_extension": ".py",
   "mimetype": "text/x-python",
   "name": "python",
   "nbconvert_exporter": "python",
   "pygments_lexer": "ipython3",
   "version": "3.7.5"
  }
 },
 "nbformat": 4,
 "nbformat_minor": 2
}
